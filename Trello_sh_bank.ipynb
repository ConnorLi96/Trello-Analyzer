{
 "cells": [
  {
   "cell_type": "code",
   "execution_count": 1,
   "metadata": {},
   "outputs": [],
   "source": [
    "import re\n",
    "import json\n",
    "import ssl\n",
    "import pandas as pd\n",
    "import urllib.request"
   ]
  },
  {
   "cell_type": "markdown",
   "metadata": {},
   "source": [
    "### Trello_Analyzer 使用方法：\n",
    "    - Step1: 获取个人 Trello 上的 key 和 token 等请求参数，获取地址:https://developers.trello.com/reference/#api-key-tokens\n",
    "    - Step2: 在下方 getDoneList 函数中填写日期（也就是list 名称），如 \"Done[20191209]\", 则是抓取12月9号之后的所有 done_list\n",
    "    - Step3: 把所有 list 都 concat 到一张表上，就可以开始分析数据了"
   ]
  },
  {
   "cell_type": "code",
   "execution_count": null,
   "metadata": {},
   "outputs": [],
   "source": [
    "# 设置参数\n",
    "g_token = \"your_g_token\"\n",
    "g_app_key = \"your_g_app_key\"\n",
    "g_user_id = \"your_g_user_id\"\n",
    "g_board_id = \"your_g_board_id\"\n",
    "\n",
    "workload_pattern = u'[(（]\\s*(\\d+(?:\\.\\d+)?)\\s*(pt|PT|pT|Pt)\\s*[)）]' # 正则匹配 pt 等\n",
    "requirement_pattern = u'[\\[【［]\\s*(.*)\\s*[】］\\]]\\s*' \n"
   ]
  },
  {
   "cell_type": "code",
   "execution_count": null,
   "metadata": {},
   "outputs": [],
   "source": [
    "# 设置参数\n",
    "g_token = \"c68bb70c102d863b3d96bc5b8901ff7689dfcba68f040b4fb3d56e9b2f8dbab8\"\n",
    "g_app_key = \"e70d4c831ca1c79442f7ef7a68aeb9e3\"\n",
    "g_user_id = \"5c16ff1d6e249c62d057987f\"\n",
    "\n",
    "# g_board_id = \"5ac3159ed146b0793ff30206\" # ThunderDB\n",
    "# g_board_id = \"5b640e00c8b518181d80fa46\" # Rating system\n",
    "g_board_id = '5d2b3dbf9c7fb38e43f6b682' # sh-bank\n",
    "# g_board_id =  '5d5b5a47ce0b537663499e30' # 数据中台\n",
    "\n",
    "workload_pattern = u'[(（]\\s*(\\d+(?:\\.\\d+)?)\\s*(pt|PT|pT|Pt)\\s*[)）]' # 正则匹配 pt 等\n",
    "requirement_pattern = u'[\\[【［]\\s*(.*)\\s*[】］\\]]\\s*' \n"
   ]
  },
  {
   "cell_type": "code",
   "execution_count": 3,
   "metadata": {},
   "outputs": [],
   "source": [
    "def basic_replace(url): # 替换 url 等主要参数\n",
    "    url = url.replace(\"_APP_KEY_\", g_app_key)\n",
    "    url = url.replace(\"_TOKEN_\", g_token)\n",
    "    return url\n",
    "\n",
    "def do_request(url): \n",
    "    context = ssl._create_unverified_context()\n",
    "    request = urllib.request.Request(url)\n",
    "    content = None\n",
    "    flag = False\n",
    "\n",
    "    for i in range(3):\n",
    "        try:\n",
    "            response = urllib.request.urlopen(request, context= context) # 会验证一次 SSL 证书, 当目标使用的是自签名的证书时就会报 SSL 错误\n",
    "            content = response.read().decode()\n",
    "            flag = True\n",
    "            break\n",
    "        except urllib.request.HTTPError as e:\n",
    "            print(\"http error: \" + str(e))\n",
    "        except Exception as e:\n",
    "            print(\"error: \" + str(e))\n",
    "\n",
    "    if not flag:\n",
    "        sys.exit(-1)\n",
    "\n",
    "    if content is None:\n",
    "        return []\n",
    "    else:\n",
    "        return json.loads(content)\n",
    "    \n",
    "def get_card_name_by_pattern(card_name, pattern):\n",
    "    return re.findall(pattern, card_name, re.S | re.U) # 搜索字符串，以列表类型返回全部能匹配的子串\n",
    "\n",
    "def fetch_board_by_user():\n",
    "    url = 'https://api.trello.com/1/members/_USERID_/boards?key=_APP_KEY_&token=_TOKEN_'\n",
    "    url = basic_replace(url)\n",
    "    url = url.replace(\"_USERID_\", g_user_id)\n",
    "    body = do_request(url)\n",
    "    board_info = {}\n",
    "\n",
    "    for item in body:\n",
    "        board_info[item['shortLink']] = item['name']\n",
    "\n",
    "    return board_info\n",
    "\n",
    "def insertStr(str_name): # 匹配\"[]\"里的日期\n",
    "    \n",
    "    if \"[\" in str_name: \n",
    "        str_list = list(str_name) \n",
    "        str_pos = str_list.index('[') \n",
    "        str_list.insert(str_pos, '\\\\') \n",
    "        str_2 = \"\".join(str_list)\n",
    "    \n",
    "    else:\n",
    "        str_2 = str_name\n",
    "    \n",
    "    return str_2\n",
    "\n"
   ]
  },
  {
   "cell_type": "code",
   "execution_count": 4,
   "metadata": {},
   "outputs": [],
   "source": [
    "def card_action(card_id):\n",
    "    url = 'https://api.trello.com/1/cards/jwoPoqiY/actions?&key=_APP_KEY_&token=_TOKEN_'\n",
    "    url = basic_replace(url)\n",
    "    url = url.replace('_CARDID_', card_id)\n",
    "    body = do_request(url)\n",
    "    return body,url\n"
   ]
  },
  {
   "cell_type": "code",
   "execution_count": 5,
   "metadata": {},
   "outputs": [],
   "source": [
    "def fetch_list_id_by_board(list_pattern): # list_pattern 作为参数要输入 list name \n",
    "    url = 'https://api.trello.com/1/boards/_BOARDID_/lists?key=_APP_KEY_&token=_TOKEN_'\n",
    "    url = basic_replace(url)\n",
    "    url = url.replace(\"_BOARDID_\", g_board_id)\n",
    "    body = do_request(url) # 返回特定 board 里所有的 list 信息\n",
    "    list_info = []\n",
    "    list_name = insertStr(list_pattern)\n",
    "    \n",
    "    for item in body:\n",
    "        \n",
    "        if re.search(list_name, item[\"name\"], re.I) is not None: # re.search 在一个字符串中搜索匹配正则表达式的第一个位置，返回match对象\n",
    "            list_info.append({'id': item['id'], 'name': item['name']}) \n",
    "            \n",
    "\n",
    "    return list_info # 返回 list name 和 list_id\n"
   ]
  },
  {
   "cell_type": "code",
   "execution_count": 6,
   "metadata": {},
   "outputs": [],
   "source": [
    "def fetch_members_by_board(): # 拿到所有成员的名称和 id\n",
    "    url = 'https://api.trello.com/1/boards/_BOARDID_/members?key=_APP_KEY_&token=_TOKEN_'\n",
    "    url = basic_replace(url)\n",
    "    url = url.replace(\"_BOARDID_\", g_board_id)\n",
    "    body = do_request(url)\n",
    "    all_members_info = {}\n",
    "\n",
    "    for item in body:\n",
    "        all_members_info[item['id']] = item['fullName']\n",
    "\n",
    "    return all_members_info # 返回 id 和 member name"
   ]
  },
  {
   "cell_type": "code",
   "execution_count": 7,
   "metadata": {},
   "outputs": [],
   "source": [
    "def fetch_cards_by_list_id(list_id): #  可以通过上面的 fetch_list_id_by_board 可以获取 list_id\n",
    "    url = 'https://api.trello.com/1/lists/_LISTID_/cards?key=_APP_KEY_&token=_TOKEN_'\n",
    "    url = basic_replace(url)\n",
    "    url = url.replace(\"_LISTID_\", list_id) \n",
    "    body = do_request(url)\n",
    "\n",
    "    return body # 用 list_id 获取 cards 的所有信息"
   ]
  },
  {
   "cell_type": "code",
   "execution_count": 8,
   "metadata": {},
   "outputs": [],
   "source": [
    "def fetch_name_by_checklist_id(checklist): \n",
    "    url = 'https://api.trello.com/1/checklists/_ID_/checkItems?key=_APP_KEY_&token=_TOKEN_'\n",
    "    url = basic_replace(url)\n",
    "    url = url.replace(\"_ID_\", checklist) \n",
    "    body = do_request(url)\n",
    "    checklist_name = []\n",
    "    for item in body:\n",
    "        checklist_name.append(item['name'])\n",
    "        \n",
    "    return checklist_name "
   ]
  },
  {
   "cell_type": "code",
   "execution_count": 9,
   "metadata": {},
   "outputs": [],
   "source": [
    "def get_cards_info(list_id, board_members):\n",
    "\n",
    "    available_cards_info = []\n",
    "    all_cards_info = fetch_cards_by_list_id(list_id)\n",
    "\n",
    "    for item in all_cards_info:\n",
    "        card_info = { \n",
    "            'card_name': item['name'],\n",
    "            'card_id': item['id'],\n",
    "            'member_name': None,\n",
    "            'member_id': None,\n",
    "            'label_name': 'None',\n",
    "            'label_id': None,\n",
    "            'plan_hours': 0,\n",
    "            'actual_hours': 0, \n",
    "            'description' : None,\n",
    "            'checklist' : None,\n",
    "            'subproject':None\n",
    "        }\n",
    "        \n",
    "        subproject = item['name'].split('--')\n",
    "\n",
    "        if len(subproject) > 0 and subproject is not None:\n",
    "            card_info['subproject'] = subproject[0]\n",
    "        \n",
    "        if len(item['idChecklists']) > 0 and item['idChecklists'][0] is not None:\n",
    "            card_info['checklist'] = fetch_name_by_checklist_id(item['idChecklists'][0])\n",
    "        \n",
    "        idMembers = item['idMembers'] # 让 cards_info get 到 member 的信息\n",
    "        if len(idMembers) > 0 and idMembers[0] is not None:\n",
    "            member_id = idMembers[0]\n",
    "            card_info['member_id'] = member_id\n",
    "            card_info['member_name'] = board_members[member_id]\n",
    "\n",
    "        labels = item['labels']\n",
    "\n",
    "        if len(labels) > 0 and labels[0] is not None: # 处理卡片的 labels\n",
    "            label = labels[0]\n",
    "            card_info['label_id'] = label['id']\n",
    "            card_info['label_name'] = list(value['name'] for value in item['labels'])\n",
    "\n",
    "        card_hours = get_card_name_by_pattern(item['name'], workload_pattern)\n",
    "        \n",
    "        if len(card_hours) == 2:\n",
    "            card_info['actual_hours'] = float(card_hours[1][0]) * 2\n",
    "            card_info['plan_hours'] = float(card_hours[0][0]) * 2\n",
    "        else:\n",
    "            try:\n",
    "                card_info['plan_hours'] = float(card_hours[0][0]) * 2\n",
    "                card_info['actual_hours'] = float(card_hours[0][0]) * 2\n",
    "            except IndexError as e:\n",
    "                print(\"IndexError: \" + item['name'])\n",
    "\n",
    "        \n",
    "        card_info['description'] = item['desc']\n",
    "        available_cards_info.append(card_info)\n",
    "                       \n",
    "    return available_cards_info"
   ]
  },
  {
   "cell_type": "code",
   "execution_count": 10,
   "metadata": {},
   "outputs": [],
   "source": [
    "def produce_dataframe(list_name):\n",
    "    board_members = fetch_members_by_board()\n",
    "    one_week_list = get_cards_info(fetch_list_id_by_board(list_name)[0]['id'], board_members)\n",
    "    df = pd.DataFrame(one_week_list, columns=[\n",
    "                                              'label_name', \n",
    "                                              'card_name', \n",
    "                                              'subproject',\n",
    "                                              'member_name',\n",
    "                                              'plan_hours',\n",
    "                                              'actual_hours',\n",
    "                                              'checklist',\n",
    "                                              'description',\n",
    "                                              'card_id',\n",
    "                                              'label_id',\n",
    "                                              'member_id',\n",
    "                                             ])\n",
    "    return df\n"
   ]
  },
  {
   "cell_type": "code",
   "execution_count": 11,
   "metadata": {},
   "outputs": [],
   "source": [
    "def getDoneList(until_date): # 选择抓取范围\n",
    "    \n",
    "    done_list = []\n",
    "    for i in fetch_list_id_by_board('Done'):\n",
    "        done_list.append(i['name'])\n",
    "        \n",
    "    return done_list[:done_list.index(until_date)+1]"
   ]
  },
  {
   "cell_type": "code",
   "execution_count": 25,
   "metadata": {},
   "outputs": [
    {
     "data": {
      "text/plain": [
       "['Done[20191216]',\n",
       " 'Done[20191213]',\n",
       " 'Done[20191212]',\n",
       " 'Done[20191211]',\n",
       " 'Done[20191210]',\n",
       " 'Done[20191209]']"
      ]
     },
     "execution_count": 25,
     "metadata": {},
     "output_type": "execute_result"
    }
   ],
   "source": [
    "done_list = getDoneList(\"Done[20191209]\")\n",
    "done_list\n",
    "\n",
    "## 可以在这里先run一下 done_list 看是不是需要抓取的列表"
   ]
  },
  {
   "cell_type": "code",
   "execution_count": null,
   "metadata": {},
   "outputs": [],
   "source": [
    "dfs = []\n",
    "for done_date in done_list:\n",
    "    result = produce_dataframe('{}'.format(done_date))\n",
    "    dfs.append(result)\n",
    "    \n",
    "result = pd.concat(dfs,join='outer') ## 整合到一张表里"
   ]
  },
  {
   "cell_type": "code",
   "execution_count": 19,
   "metadata": {},
   "outputs": [],
   "source": [
    "result.to_csv(\"sh_bank_20191209.csv\",encoding='utf_8_sig') ## 存储到本地"
   ]
  },
  {
   "cell_type": "code",
   "execution_count": null,
   "metadata": {},
   "outputs": [],
   "source": []
  },
  {
   "cell_type": "code",
   "execution_count": null,
   "metadata": {},
   "outputs": [],
   "source": []
  },
  {
   "cell_type": "code",
   "execution_count": null,
   "metadata": {},
   "outputs": [],
   "source": []
  },
  {
   "cell_type": "code",
   "execution_count": 23,
   "metadata": {},
   "outputs": [],
   "source": [
    "## 去掉某位 member 的数据\n",
    "result_remove1 = total_statistic_result[total_statistic_result['member_name']!='liwan'] # remove liwan \n",
    "result_remove2 = result_remove1[result_remove1['member_name']!='严龙祥']# remove 严龙祥  \n",
    "sum(result_remove2['actual_hours'])"
   ]
  },
  {
   "cell_type": "code",
   "execution_count": null,
   "metadata": {},
   "outputs": [],
   "source": [
    "\n",
    "# 本地的多表整合 \n",
    "\n",
    "# files = os.listdir('/Users/lichenxi/venv/CovenantSQL/Trello Analyzer')\n",
    "# fn = files[0]\n",
    "# df = pd.read_csv(os.path.join('/Users/lichenxi/venv/CovenantSQL/Trello Analyzer', fn))\n",
    "\n",
    "# dfs = []\n",
    "# for fn in files:\n",
    "#     try:\n",
    "#         df = pd.read_csv(os.path.join('/Users/lichenxi/venv/CovenantSQL/Trello Analyzer/', fn))\n",
    "#         df.set_index(\"Unnamed: 0\", inplace=True)\n",
    "#         dfs.append(df)\n",
    "#     except Exception as e:\n",
    "#         print('Error loading: ', fn)\n",
    "#         print(e)\n"
   ]
  }
 ],
 "metadata": {
  "kernelspec": {
   "display_name": "Python 3",
   "language": "python",
   "name": "python3"
  },
  "language_info": {
   "codemirror_mode": {
    "name": "ipython",
    "version": 3
   },
   "file_extension": ".py",
   "mimetype": "text/x-python",
   "name": "python",
   "nbconvert_exporter": "python",
   "pygments_lexer": "ipython3",
   "version": "3.6.1"
  }
 },
 "nbformat": 4,
 "nbformat_minor": 2
}
